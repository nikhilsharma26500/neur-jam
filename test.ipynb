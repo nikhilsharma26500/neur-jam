{
 "cells": [
  {
   "cell_type": "markdown",
   "metadata": {},
   "source": [
    "### GOOGLE - GEMINI"
   ]
  },
  {
   "cell_type": "code",
   "execution_count": null,
   "metadata": {},
   "outputs": [],
   "source": [
    "import os\n",
    "from dotenv import load_dotenv, find_dotenv\n",
    "from IPython.display import display, Markdown\n",
    "\n",
    "load_dotenv(find_dotenv())\n",
    "\n",
    "import google.generativeai as gemini_AI\n",
    "\n",
    "GEMININAI_API_KEY = os.getenv(\"GEMININ_API_KEY\")\n",
    "\n",
    "gemini_AI.configure(api_key=GEMININAI_API_KEY)\n",
    "\n",
    "model = gemini_AI.GenerativeModel('gemini-pro')\n",
    "\n",
    "response = model.generate_content(\"Are you doing well?\")\n",
    "\n",
    "display(Markdown(response.text))\n"
   ]
  },
  {
   "cell_type": "markdown",
   "metadata": {},
   "source": [
    "### OPENAI"
   ]
  },
  {
   "cell_type": "code",
   "execution_count": null,
   "metadata": {},
   "outputs": [],
   "source": [
    "from openai import OpenAI\n",
    "import os\n",
    "from dotenv import load_dotenv, find_dotenv\n",
    "from IPython.display import display, Markdown\n",
    "import asyncio\n",
    "import openai\n",
    "\n",
    "load_dotenv(find_dotenv())\n",
    "\n",
    "client = OpenAI()\n",
    "\n",
    "\n",
    "response = client.chat.completions.create(\n",
    "    model=\"gpt-3.5-turbo-1106\",\n",
    "    response_format={\"type\": \"text\"},\n",
    "    # response_format={\"type\": \"json_object\"},\n",
    "    messages=[\n",
    "        {\n",
    "            \"role\": \"system\",\n",
    "            # \"content\": \"helpful assisstant that produces output in JSON\",\n",
    "            \"content\": \"helpful assisstant\",\n",
    "        },\n",
    "        {\n",
    "            \"role\": \"user\",\n",
    "            \"content\": \"How are you?\"\n",
    "        },\n",
    "    ],\n",
    ")\n",
    "\n",
    "# display(Markdown(response.choices[0].message))\n",
    "response.choices[0].message"
   ]
  },
  {
   "cell_type": "markdown",
   "metadata": {},
   "source": [
    "### LLAMA-2"
   ]
  },
  {
   "cell_type": "markdown",
   "metadata": {},
   "source": [
    "##### HUGGINGFACE MISTRAL-AI"
   ]
  },
  {
   "cell_type": "code",
   "execution_count": null,
   "metadata": {},
   "outputs": [],
   "source": [
    "import requests\n",
    "from dotenv import load_dotenv, find_dotenv\n",
    "import os\n",
    "from IPython.display import display, Markdown\n",
    "\n",
    "API_URL = (\n",
    "    \"https://api-inference.huggingface.co/models/mistralai/Mixtral-8x7B-Instruct-v0.1\"\n",
    ")\n",
    "\n",
    "API_TOKEN = os.getenv(\"HUGGINGFACE_LLAMA2_API_KEY\")\n",
    "\n",
    "if API_TOKEN:\n",
    "    headers = {\"Authorization\": f\"Bearer {API_TOKEN}\"}\n",
    "\n",
    "    def query(payload):\n",
    "        response = requests.post(API_URL, headers=headers, json=payload)\n",
    "        return response.json()\n",
    "\n",
    "    output = query(\n",
    "        {\n",
    "            \"inputs\": \"How are you?\",\n",
    "        }\n",
    "    )\n",
    "\n",
    "    display(output)\n",
    "else:\n",
    "    print(\"Please set API_TOKEN to query the API.\")"
   ]
  },
  {
   "cell_type": "code",
   "execution_count": null,
   "metadata": {},
   "outputs": [],
   "source": [
    "import os\n",
    "from dotenv import load_dotenv, find_dotenv\n",
    "from getpass import getpass\n",
    "\n",
    "load_dotenv(find_dotenv())\n",
    "\n",
    "# WATSONX_API_KEY = os.getenv(\"WATSONX_API_KEY\")\n",
    "WATSONX_PROJECT_ID = os.getenv(\"WATSONX_PROJECT_ID\")\n",
    "\n",
    "watsonx_api_key = os.getenv(\"WATSONX_API_KEY\")\n",
    "os.environ[\"WATSONX_APIKEY\"] = watsonx_api_key\n",
    "\n",
    "# watsonx_api_key = f\"Bearer {os.getenv('WATSONX_API_KEY')}\"\n",
    "# os.environ[\"WATSONX_APIKEY\"] = watsonx_api_key\n",
    "\n",
    "from ibm_watson_machine_learning.metanames import GenTextParamsMetaNames as GenParams\n",
    "\n",
    "from langchain.llms import WatsonxLLM\n",
    "from langchain.prompts import PromptTemplate\n",
    "from langchain.chains import LLMChain\n",
    "\n",
    "parameters = {\n",
    "    GenParams.DECODING_METHOD: \"sample\",\n",
    "    GenParams.MAX_NEW_TOKENS: 100,\n",
    "    GenParams.MIN_NEW_TOKENS: 1,\n",
    "    GenParams.TEMPERATURE: 0.5,\n",
    "    GenParams.TOP_K: 50,\n",
    "    GenParams.TOP_P: 1,\n",
    "}\n",
    "\n",
    "watsonx_llM = WatsonxLLM(\n",
    "    model_id=\"google/flan-ul2\",\n",
    "    url=\"https://us-south.ml.cloud.ibm.com\",\n",
    "    project_id=WATSONX_PROJECT_ID,\n",
    "    params=parameters,\n",
    ")\n",
    "\n",
    "template = \"You are a helpful assistant.\"\n",
    "\n",
    "prompt = PromptTemplate.from_template(template)\n",
    "\n",
    "llm_chain = LLMChain(llm=watsonx_llM, prompt=template) \n",
    "llm_chain.run(\"hi how are you?\")"
   ]
  }
 ],
 "metadata": {
  "kernelspec": {
   "display_name": "Python 3",
   "language": "python",
   "name": "python3"
  },
  "language_info": {
   "codemirror_mode": {
    "name": "ipython",
    "version": 3
   },
   "file_extension": ".py",
   "mimetype": "text/x-python",
   "name": "python",
   "nbconvert_exporter": "python",
   "pygments_lexer": "ipython3",
   "version": "3.12.1"
  }
 },
 "nbformat": 4,
 "nbformat_minor": 2
}
