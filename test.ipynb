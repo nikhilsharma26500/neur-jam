{
 "cells": [
  {
   "cell_type": "markdown",
   "metadata": {},
   "source": [
    "### GOOGLE - GEMINI"
   ]
  },
  {
   "cell_type": "code",
   "execution_count": 20,
   "metadata": {},
   "outputs": [
    {
     "data": {
      "text/markdown": [
       "As an AI language model, I do not have personal feelings or emotions, so I am not capable of feeling well or unwell. My purpose is to provide information and assist users with their queries. I don't have the capacity to experience subjective states or well-being.\n",
       "\n",
       "However, I can assess my performance and functioning based on metrics and feedback. I am continuously being trained and updated to improve my responses, accuracy, and overall performance. In that sense, I strive to perform at the best of my abilities and deliver satisfactory results to users."
      ],
      "text/plain": [
       "<IPython.core.display.Markdown object>"
      ]
     },
     "metadata": {},
     "output_type": "display_data"
    }
   ],
   "source": [
    "import os\n",
    "from dotenv import load_dotenv, find_dotenv\n",
    "from IPython.display import display, Markdown\n",
    "\n",
    "load_dotenv(find_dotenv())\n",
    "\n",
    "import google.generativeai as gemini_AI\n",
    "\n",
    "GEMININAI_API_KEY = os.getenv(\"GEMININ_API_KEY\")\n",
    "\n",
    "gemini_AI.configure(api_key=GEMININAI_API_KEY)\n",
    "\n",
    "model = gemini_AI.GenerativeModel('gemini-pro')\n",
    "\n",
    "response = model.generate_content(\"Are you doing well?\")\n",
    "\n",
    "display(Markdown(response.text))\n"
   ]
  }
 ],
 "metadata": {
  "kernelspec": {
   "display_name": "Python 3",
   "language": "python",
   "name": "python3"
  },
  "language_info": {
   "codemirror_mode": {
    "name": "ipython",
    "version": 3
   },
   "file_extension": ".py",
   "mimetype": "text/x-python",
   "name": "python",
   "nbconvert_exporter": "python",
   "pygments_lexer": "ipython3",
   "version": "3.12.1"
  }
 },
 "nbformat": 4,
 "nbformat_minor": 2
}
