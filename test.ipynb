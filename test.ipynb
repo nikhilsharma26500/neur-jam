{
 "cells": [
  {
   "cell_type": "markdown",
   "metadata": {},
   "source": [
    "### GOOGLE - GEMINI"
   ]
  },
  {
   "cell_type": "code",
   "execution_count": null,
   "metadata": {},
   "outputs": [],
   "source": [
    "import os\n",
    "from dotenv import load_dotenv, find_dotenv\n",
    "from IPython.display import display, Markdown\n",
    "\n",
    "load_dotenv(find_dotenv())\n",
    "\n",
    "import google.generativeai as gemini_AI\n",
    "\n",
    "GEMININAI_API_KEY = os.getenv(\"GEMININ_API_KEY\")\n",
    "\n",
    "gemini_AI.configure(api_key=GEMININAI_API_KEY)\n",
    "\n",
    "model = gemini_AI.GenerativeModel('gemini-pro')\n",
    "\n",
    "response = model.generate_content(\"Are you doing well?\")\n",
    "\n",
    "display(Markdown(response.text))\n"
   ]
  },
  {
   "cell_type": "markdown",
   "metadata": {},
   "source": [
    "### OPENAI"
   ]
  },
  {
   "cell_type": "code",
   "execution_count": null,
   "metadata": {},
   "outputs": [],
   "source": [
    "from openai import OpenAI\n",
    "import os\n",
    "from dotenv import load_dotenv, find_dotenv\n",
    "from IPython.display import display, Markdown\n",
    "import asyncio\n",
    "import openai\n",
    "\n",
    "load_dotenv(find_dotenv())\n",
    "\n",
    "client = OpenAI()\n",
    "\n",
    "\n",
    "response = client.chat.completions.create(\n",
    "    model=\"gpt-3.5-turbo-1106\",\n",
    "    response_format={\"type\": \"text\"},\n",
    "    # response_format={\"type\": \"json_object\"},\n",
    "    messages=[\n",
    "        {\n",
    "            \"role\": \"system\",\n",
    "            # \"content\": \"helpful assisstant that produces output in JSON\",\n",
    "            \"content\": \"helpful assisstant\",\n",
    "        },\n",
    "        {\n",
    "            \"role\": \"user\",\n",
    "            \"content\": \"How are you?\"\n",
    "        },\n",
    "    ],\n",
    ")\n",
    "\n",
    "# display(Markdown(response.choices[0].message))\n",
    "response.choices[0].message"
   ]
  }
 ],
 "metadata": {
  "kernelspec": {
   "display_name": "Python 3",
   "language": "python",
   "name": "python3"
  },
  "language_info": {
   "codemirror_mode": {
    "name": "ipython",
    "version": 3
   },
   "file_extension": ".py",
   "mimetype": "text/x-python",
   "name": "python",
   "nbconvert_exporter": "python",
   "pygments_lexer": "ipython3",
   "version": "3.12.1"
  }
 },
 "nbformat": 4,
 "nbformat_minor": 2
}
