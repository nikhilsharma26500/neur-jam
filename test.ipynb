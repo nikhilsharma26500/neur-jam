{
 "cells": [
  {
   "cell_type": "markdown",
   "metadata": {},
   "source": [
    "### GOOGLE - GEMINI"
   ]
  },
  {
   "cell_type": "code",
   "execution_count": null,
   "metadata": {},
   "outputs": [],
   "source": [
    "import os\n",
    "from dotenv import load_dotenv, find_dotenv\n",
    "from IPython.display import display, Markdown\n",
    "\n",
    "load_dotenv(find_dotenv())\n",
    "\n",
    "import google.generativeai as gemini_AI\n",
    "\n",
    "GEMININAI_API_KEY = os.getenv(\"GEMININ_API_KEY\")\n",
    "\n",
    "gemini_AI.configure(api_key=GEMININAI_API_KEY)\n",
    "\n",
    "model = gemini_AI.GenerativeModel('gemini-pro')\n",
    "\n",
    "response = model.generate_content(\"Hi how are you?\")\n",
    "\n",
    "display(Markdown(response.text))\n"
   ]
  },
  {
   "cell_type": "markdown",
   "metadata": {},
   "source": [
    "### OPENAI"
   ]
  },
  {
   "cell_type": "code",
   "execution_count": null,
   "metadata": {},
   "outputs": [],
   "source": [
    "from openai import OpenAI\n",
    "import os\n",
    "from dotenv import load_dotenv, find_dotenv\n",
    "from IPython.display import display, Markdown\n",
    "import asyncio\n",
    "import openai\n",
    "\n",
    "load_dotenv(find_dotenv())\n",
    "\n",
    "client = OpenAI()\n",
    "\n",
    "\n",
    "response = client.chat.completions.create(\n",
    "    model=\"gpt-3.5-turbo-1106\",\n",
    "    response_format={\"type\": \"text\"},\n",
    "    # response_format={\"type\": \"json_object\"},\n",
    "    messages=[\n",
    "        {\n",
    "            \"role\": \"system\",\n",
    "            # \"content\": \"helpful assisstant that produces output in JSON\",\n",
    "            \"content\": \"helpful assisstant\",\n",
    "        },\n",
    "        {\n",
    "            \"role\": \"user\",\n",
    "            \"content\": \"How are you?\"\n",
    "        },\n",
    "    ],\n",
    ")\n",
    "\n",
    "# display(Markdown(response.choices[0].message))\n",
    "response.choices[0].message"
   ]
  },
  {
   "cell_type": "markdown",
   "metadata": {},
   "source": [
    "### LLAMA-2"
   ]
  },
  {
   "cell_type": "markdown",
   "metadata": {},
   "source": [
    "##### HUGGINGFACE MISTRAL-AI"
   ]
  },
  {
   "cell_type": "code",
   "execution_count": null,
   "metadata": {},
   "outputs": [],
   "source": [
    "import requests\n",
    "from dotenv import load_dotenv, find_dotenv\n",
    "import os\n",
    "from IPython.display import display, Markdown\n",
    "\n",
    "API_URL = (\n",
    "    \"https://api-inference.huggingface.co/models/mistralai/Mixtral-8x7B-Instruct-v0.1\"\n",
    ")\n",
    "\n",
    "API_TOKEN = os.getenv(\"HUGGINGFACE_API_KEY\")\n",
    "\n",
    "if API_TOKEN:\n",
    "    headers = {\"Authorization\": f\"Bearer {API_TOKEN}\"}\n",
    "\n",
    "    def query(payload):\n",
    "        response = requests.post(API_URL, headers=headers, json=payload)\n",
    "        return response.json()\n",
    "\n",
    "    output = query(\n",
    "        {\n",
    "            \"inputs\": \"How are you?\",\n",
    "        }\n",
    "    )\n",
    "\n",
    "    display(output)\n",
    "else:\n",
    "    print(\"Please set API_TOKEN to query the API.\")"
   ]
  },
  {
   "cell_type": "code",
   "execution_count": null,
   "metadata": {},
   "outputs": [],
   "source": [
    "import json\n",
    "import sagemaker\n",
    "import boto3\n",
    "from sagemaker.huggingface import HuggingFaceModel, get_huggingface_llm_image_uri\n",
    "\n",
    "try:\n",
    "\trole = sagemaker.get_execution_role()\n",
    "except ValueError:\n",
    "\tiam = boto3.client('iam')\n",
    "\trole = iam.get_role(RoleName='sagemaker_execution_role')['Role']['Arn']\n",
    "\n",
    "# Hub Model configuration. https://huggingface.co/models\n",
    "hub = {\n",
    "\t'HF_MODEL_ID':'meta-llama/Llama-2-70b-chat-hf',\n",
    "\t'SM_NUM_GPUS': json.dumps(8),\n",
    "\t'HUGGING_FACE_HUB_TOKEN': os.getenv(\"HUGGINGFACE_API_KEY\"),\n",
    "}\n",
    "\n",
    "assert hub['HUGGING_FACE_HUB_TOKEN'] != os.getenv(\"HUGGINGFACE_API_KEY\"), \"You have to provide a token.\"\n",
    "\n",
    "# create Hugging Face Model Class\n",
    "huggingface_model = HuggingFaceModel(\n",
    "\timage_uri=get_huggingface_llm_image_uri(\"huggingface\",version=\"1.1.0\"),\n",
    "\tenv=hub,\n",
    "\trole=role, \n",
    ")\n",
    "\n",
    "# deploy model to SageMaker Inference\n",
    "predictor = huggingface_model.deploy(\n",
    "\tinitial_instance_count=1,\n",
    "\tinstance_type=\"ml.g5.48xlarge\",\n",
    "\tcontainer_startup_health_check_timeout=1200,\n",
    "  )\n",
    "  \n",
    "# send request\n",
    "predictor.predict({\n",
    "\t\"inputs\": \"My name is Julien and I like to\",\n",
    "})"
   ]
  },
  {
   "cell_type": "code",
   "execution_count": null,
   "metadata": {},
   "outputs": [],
   "source": [
    "import fireworks.client\n",
    "from dotenv import load_dotenv\n",
    "import os\n",
    "load_dotenv()\n",
    "\n",
    "fireworks.client.api_key = os.getenv(\"FIREWORKS_API_KEY\")\n",
    "completion = fireworks.client.ChatCompletion.create(\n",
    "  model=\"accounts/fireworks/models/llama-v2-7b-chat\",\n",
    "  messages=[\n",
    "    {\n",
    "      \"role\": \"user\",\n",
    "      \"content\": \"hi how are you?\",\n",
    "    }\n",
    "  ],\n",
    "  # stream=True,\n",
    "  n=1,\n",
    "  max_tokens=1000,\n",
    "  temperature=0.1,\n",
    "  top_p=0.9, \n",
    "  stop=[],\n",
    ")\n",
    "\n",
    "# for item in completion:\n",
    "#     print(item)\n",
    "# completion_list = list(completion)\n",
    "# for response in completion_list:\n",
    "#     for choice in response.choices:\n",
    "#         print(choice.delta.content)\n",
    "\n",
    "# completion_list = list(completion)\n",
    "# print(completion_list[1].choices[0].delta.content)\n",
    "# completion_list\n",
    "completion.choices[0].message.content"
   ]
  }
 ],
 "metadata": {
  "kernelspec": {
   "display_name": "Python 3",
   "language": "python",
   "name": "python3"
  },
  "language_info": {
   "codemirror_mode": {
    "name": "ipython",
    "version": 3
   },
   "file_extension": ".py",
   "mimetype": "text/x-python",
   "name": "python",
   "nbconvert_exporter": "python",
   "pygments_lexer": "ipython3",
   "version": "3.12.1"
  }
 },
 "nbformat": 4,
 "nbformat_minor": 2
}
